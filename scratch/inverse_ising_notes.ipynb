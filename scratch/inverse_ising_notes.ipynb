{
 "cells": [
  {
   "cell_type": "code",
   "execution_count": 2,
   "metadata": {
    "collapsed": true
   },
   "outputs": [],
   "source": [
    "import numpy as np\n",
    "%matplotlib inline"
   ]
  },
  {
   "cell_type": "markdown",
   "metadata": {
    "collapsed": true
   },
   "source": [
    "# Some notes from papers and reviews on inverse Ising inference\n",
    "\n",
    "### Key quantities and notation\n",
    "* We typically consider $N$ binary spin variables $\\{s_i \\pm 1\\}$ where $i = 1, \\cdots, N$.\n",
    "* A particular configuration of spins is denoted $\\mathbf{s} \\equiv \\{ s_i\\}$\n",
    "* Pair-wise couplings are denoted as $J_{ij}$ for any two spins and describe pair-wise interactions between spin variables.\n",
    "* Local magnetic field acts on individual spins and is denoted as $h_i$.\n",
    "* The energy of a configuration $\\bf s$ is given by the Hamiltonian:\n",
    "$$\n",
    "H_{\\boldsymbol{J, h}}(s) = - \\sum J_{i,j}s_is_j - \\sum_i h_is_i \\tag{1}\n",
    "$$\n",
    "* The equilibrium statsitics of the Ising model are described by the Boltzmann distribution, which gives the probability of a configuration:\n",
    "$$\n",
    "p(\\mathbf{s}) = \\frac{1}{Z}e^{-H_{\\boldsymbol{J, h}}(s)} \\tag{2}\n",
    "$$\n",
    "* The inverse temperature $\\beta = 1/T$ is deliberately omitted because it is subsumed into couplings and fields such that $\\beta = 1$. This means that in inverse Ising inference, it is the products $\\beta J_{ij}$ and $\\beta h_i$ that are inferred.\n",
    "* The partition function is given by:\n",
    "$$\n",
    "Z(\\boldsymbol{J, h}) = \\sum_{\\boldsymbol s} e^{-H_{\\boldsymbol{J, h}}(s)} \\tag{3}\n",
    "$$\n",
    "* Expectation values are defined as:\n",
    "$$\n",
    "\\langle Q(\\boldsymbol{\\sigma}) \\rangle = \\sum_{\\boldsymbol s} p(\\mathbf{s})Q(\\boldsymbol{\\sigma}) \\tag{4}\n",
    "$$"
   ]
  },
  {
   "cell_type": "code",
   "execution_count": null,
   "metadata": {
    "collapsed": true
   },
   "outputs": [],
   "source": []
  }
 ],
 "metadata": {
  "kernelspec": {
   "display_name": "Python 3",
   "language": "python",
   "name": "python3"
  },
  "language_info": {
   "codemirror_mode": {
    "name": "ipython",
    "version": 3
   },
   "file_extension": ".py",
   "mimetype": "text/x-python",
   "name": "python",
   "nbconvert_exporter": "python",
   "pygments_lexer": "ipython3",
   "version": "3.6.2"
  }
 },
 "nbformat": 4,
 "nbformat_minor": 2
}
