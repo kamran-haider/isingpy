{
 "cells": [
  {
   "cell_type": "code",
   "execution_count": 149,
   "metadata": {
    "collapsed": true
   },
   "outputs": [],
   "source": [
    "%matplotlib inline\n",
    "import matplotlib.pyplot as plt\n",
    "plt.style.use('seaborn-whitegrid')\n",
    "import numpy as np\n",
    "import random"
   ]
  },
  {
   "cell_type": "markdown",
   "metadata": {},
   "source": [
    "# Connecting physics to machine learning through variational priniple\n",
    "(Adapted from Jaan Altosaar's blog entry)\n",
    "\n",
    "This blog entry is quite remarkable as it illustrates the connection between statistical physics and machine learning. In order to parse it and understand the concepts, we will write some simple python code as we go along.\n",
    "\n",
    "## Modelling a 2-D Ising Lattice\n",
    "First step is to model a 2-D Ising magnet. This is our toy system to understand these concepts. We will create a class for Ising lattices using numpy arrays."
   ]
  },
  {
   "cell_type": "code",
   "execution_count": 180,
   "metadata": {
    "collapsed": false
   },
   "outputs": [],
   "source": [
    "class IsingLattice(object):\n",
    "    \"\"\"Class for modeling 2-D ising lattices.\n",
    "    \"\"\"\n",
    "    def __init__(self, dims=None, interaction_strength=1.0, magnetic_field=0.0):\n",
    "        \"\"\"Initialize a 2-D Ising lattice.\n",
    "        \n",
    "        Parameters\n",
    "        ----------\n",
    "        dims : list, optional\n",
    "            Number of spins in each dimension where only two dimensions are allowed\n",
    "        interaction_strength : float, optional\n",
    "            Pair-wise interaction strength, Default=1.0\n",
    "        magnetic_field : float, optional\n",
    "            Value of external magnetic field, Default=0.0\n",
    "\n",
    "        Examples\n",
    "        --------\n",
    "        >>> ising_64 = IsingLattice(8, 8)\n",
    "        >>> ising_16 = IsingLattice()\n",
    "\n",
    "        Notes\n",
    "        -----\n",
    "        No upper-bound set up for the size of lattice, but unusually large lattices\n",
    "        would be problematic for analytical solution of partition function.\n",
    "        \"\"\"\n",
    "\n",
    "        if dims is None:\n",
    "            dims = [4, 4]\n",
    "        else:\n",
    "            assert len(dims) == 2, \"Only 2-D lattice can be modelled with this class.\"\n",
    "            assert dims[0] != 0 or dims[1] != 0, \"Only non-zero size allowed.\"\n",
    "        self.dims = dims\n",
    "        self.interaction_strength = interaction_strength\n",
    "        self.magnetic_field = magnetic_field\n",
    "        # Initialize lattice with all spins set to +1\n",
    "        self.lattice = np.ones(self.dims, dtype=\"float\")\n",
    "        # randomly flip spins to generate initial an configuration\n",
    "        for i in xrange(self.dims[0]):\n",
    "            for j in xrange(self.dims[1]):\n",
    "                if random.random() < 0.5:\n",
    "                    self.lattice[i, j] *= -1.0\n",
    "        \n",
    "    def get_nearest_nbrs(self, pos):\n",
    "        \"\"\"Obtain nearest neighbor spins for a spin at a given position in lattice.\n",
    "        \n",
    "        Parameters\n",
    "        ----------\n",
    "        pos : list\n",
    "            Position indices of the spin.\n",
    "        \"\"\"\n",
    "        indices = []\n",
    "        assert len(pos) == self.lattice.ndim, \"Mismatch in dimensions.\"\n",
    "        if pos[0] >= self.dims[0] or pos[1] >= self.dims[1]:\n",
    "            raise ValueError(\"Index must be within the lattice of size %i x %i\" % \n",
    "                             (self.dims[0], self.dims[1]))\n",
    "        else:\n",
    "            i, j = pos\n",
    "            nbrs = [[(i - 1)%self.dims[0], j], [(i + 1)%self.dims[0], j],\n",
    "                    [i, (j - 1)%self.dims[0]], [i, (j + 1)%self.dims[1]]]\n",
    "            return nbrs\n",
    "    \n",
    "    def hamiltonian(self):\n",
    "        \"\"\"Returns hamiltonian of the system based on current configuration.\n",
    "        \n",
    "        Notes\n",
    "        -----\n",
    "            This should not be used when we are interested in differences in energies\n",
    "            resulting from flipping a single spin. In those cases, no need to loop over\n",
    "            all spins, just calculate new interactions with nearest neighbors of flipped spin.\n",
    "        \"\"\"\n",
    "        interaction_energy = 0.0\n",
    "        sum_spins = 0.0\n",
    "        for i in xrange(self.dims[0]):\n",
    "            for j in xrange(self.dims[1]):\n",
    "                s_ij = self.lattice[i, j]\n",
    "                sum_spins += s_ij\n",
    "                interaction_energy -= s_ij * (self.lattice[i, (j+1)%self.dims[0]] + self.lattice[(i+1)%self.dims[0], j])\n",
    "        hamiltonian = (self.interaction_strength * interaction_energy) - (self.magnetic_field * sum_spins) \n",
    "        return hamiltonian\n",
    "    \n",
    "    \n",
    "    def sample_observables(self):\n",
    "        \"\"\"Sample current state of the system by obtaining average energy and magnetization\n",
    "        \n",
    "        Returns\n",
    "        -------\n",
    "        (avg_energy, avg_spin) : tuple\n",
    "            A tuple with values of average energy and average spin in the current config\n",
    "        \"\"\"\n",
    "        avg_energy = self.hamiltonian() / (self.dims[0]*self.dims[1]) \n",
    "        avg_spin = np.sum(self.lattice)/(self.dims[0]*self.dims[1])\n",
    "        return avg_energy, avg_spin"
   ]
  },
  {
   "cell_type": "markdown",
   "metadata": {},
   "source": [
    "### Some helpful notes for this example:\n",
    "\n",
    "We consider a 2D square latex. Using default values for parameter $J$ and $H$, the hamiltonian is reduced to:\n",
    "\n",
    "$H = -\\sum_{<ij>}s_is_j$\n",
    "\n",
    "A given spin $s_i$ is either +1 or -1. $<ij>$ denote unique nearest neighbor pairs. In order to obtain the number of unique nearest neighbor pairs, we need to know the coordination  number $z$, which is just the number of nearest neighbors for each spin. For a 2D square lattic, this number is 4. But each spin contributes on 2 unique pairs. Hence the total number of unique nearest neighbor pairs are $\\frac{Nz}{2}$, where $z = 4$ in this case. \n",
    "\n",
    "The probability of a particular configuration is given by:\n",
    "\n",
    "$P(x) = \\frac{exp[-\\beta H(s_1, \\cdots, s_n)]}{\\sum_{s_1=-1}^{1} \\cdots \\sum_{s_n=-1}^{1}{exp[-\\beta H(s_1, \\cdots, s_n)]}}$\n",
    "\n",
    "Also note that the product $s_is_j$ is 1 when both spins have the same orientation and -1 when they are opposite. The total energy of the system is minimum when all spins are the same sign.\n",
    "\n",
    "Let's also bring in an observable, a measurable property of each configuration. We will use _Magnetization_, $M$, which is defined as:\n",
    "\n",
    "$M(s_1, \\cdots, s_n) = \\frac{1}{N}\\sum_{i=1}^N s_i$\n",
    "\n",
    "The quantity $M(x)$ is simply the average orientation in a configuration. It is an interesting quantity because we expect that the thermal energy is expected to affect the orientations of individual flips, thereby affecting this quantity as well. The ensemble average for this quantity is given by:\n",
    "\n",
    "$\\langle M \\rangle = \\frac{\\sum_{s_1 = -1}^1 \\cdots \\sum_{s_n = -1}^ 1 [\\frac{1}{N}\\sum_i s_i] exp[-\\beta H(s_1, \\cdots, s_n)]}{\\sum_{s_1=-1}^{1} \\cdots \\sum_{s_n=-1}^{1}{exp[-\\beta H(s_1, \\cdots, s_n)]}}$.\n",
    "\n",
    "<M> is an order parameters that defines phase transition."
   ]
  },
  {
   "cell_type": "code",
   "execution_count": 121,
   "metadata": {
    "collapsed": false
   },
   "outputs": [],
   "source": [
    "# for debugging\n",
    "test = [[-1, -1, -1, -1], [-1, 1, 1, -1], [-1, 1, 1, -1], [-1, 1, -1, 1]]\n",
    "debug_lattice = np.array(test, dtype=float)\n"
   ]
  },
  {
   "cell_type": "markdown",
   "metadata": {
    "collapsed": true
   },
   "source": [
    "# Monte Carlo sampling of the 2-D Ising Magnet\n",
    "\n",
    "We seem to have a reasonable first implementation of an Ising magnet, Let's take it for a spin (no pun intended). "
   ]
  },
  {
   "cell_type": "code",
   "execution_count": 148,
   "metadata": {
    "collapsed": false
   },
   "outputs": [],
   "source": [
    "def simulate(magnet, temp=1.0, n_runs=3, n_cycles=10000, sampling_freq=100, write_data=False):\n",
    "    \"\"\"Simulate an Ising magnet at a given tempeature.\n",
    "    \n",
    "    Parameters\n",
    "    ----------\n",
    "    magnet : IsingLattice\n",
    "        An IsingLattice object\n",
    "    temp : float\n",
    "        Value of temperature at which simulation is performed\n",
    "    n_runs : int\n",
    "        Number of repetitions of the Monte Carlo simulation\n",
    "    n_cycles : int\n",
    "        Number of cycles in each MC run\n",
    "    sampling_freq : int\n",
    "        Number of samples to use for calculating observables\n",
    "    write_data : bool, optional\n",
    "        Write various data to disk (functionality to be added later)\n",
    "    \n",
    "    Returns\n",
    "    -------\n",
    "    E_per_spin : numpy.ndarray, dims=(n_runs, n_cycles/sampling_freq)\n",
    "        Energy per spin recorded for each sample\n",
    "    M_per_spin : numpy.ndarray\n",
    "        Magnetization per spin recorded for each sample\n",
    "    \"\"\"\n",
    "    M, N = magnet.dims[0],  magnet.dims[1]\n",
    "    n_spins = M * N\n",
    "\n",
    "    kb = 1.0\n",
    "    beta = 1.0/(kb * temp)\n",
    "    # initialize arrays to store data during simulation\n",
    "    E_per_spin = np.zeros((n_runs, n_cycles/sampling_freq))\n",
    "    M_per_spin = np.zeros((n_runs, n_cycles/sampling_freq))\n",
    "    print \"Current simulation running at Temperature %g.\" % temp\n",
    "    for rep in xrange(n_runs):\n",
    "        n_samples = 0\n",
    "        for cycle in xrange(n_cycles):\n",
    "            for attempt in xrange(n_spins):\n",
    "                i, j = random.randint(0, M - 1), random.randint(0, N - 1)\n",
    "                update_interactions = 0.0\n",
    "                nearest_nbrs = magnet.get_nearest_nbrs([i, j])\n",
    "                for nbr in nearest_nbrs:\n",
    "                    update_interactions += magnet.lattice[nbr[0], nbr[1]]\n",
    "                dE = -2.0 * magnet.lattice[i, j] * update_interactions\n",
    "                # figure out sign of exponent\n",
    "                # if i need not evaluate boltzman factor\n",
    "                boltzmann_factor = np.exp(beta*dE)\n",
    "                x = random.random()\n",
    "                if x < boltzmann_factor:\n",
    "                    magnet.lattice[i, j] *= -1.0\n",
    "            if not cycle % sampling_freq:\n",
    "                current_avg_e, current_avg_s = magnet.sample_observables()\n",
    "                #print \"%i %f %f\" % (trial, current_avg_s, current_avg_e)\n",
    "                E_per_spin[rep, n_samples] = current_avg_e\n",
    "                M_per_spin[rep, n_samples] = current_avg_s\n",
    "                n_samples += 1\n",
    "\n",
    "    return E_per_spin, M_per_spin"
   ]
  },
  {
   "cell_type": "code",
   "execution_count": 178,
   "metadata": {
    "collapsed": false
   },
   "outputs": [
    {
     "name": "stdout",
     "output_type": "stream",
     "text": [
      "Current simulation running at Temperature 1.\n",
      "Current simulation running at Temperature 2.\n",
      "Current simulation running at Temperature 3.\n",
      "Current simulation running at Temperature 4.\n",
      "Current simulation running at Temperature 5.\n"
     ]
    }
   ],
   "source": [
    "ising = IsingLattice([20, 20])\n",
    "temperatures = np.arange(0.0, 5.0, 0.2)\n",
    "E = np.zeros((temperatures.shape[0]))\n",
    "M = np.zeros((temperatures.shape[0]))\n",
    "errors_E = np.zeros((E.shape[0]))\n",
    "errors_M = np.zeros((M.shape[0]))\n",
    "for index, T in enumerate(temperatures):\n",
    "    runs = 3\n",
    "    data_e, data_m = simulate(ising, temp=T, n_runs=runs, n_cycles=10000, sampling_freq=100)\n",
    "    E[index] = np.mean(data_e)\n",
    "    M[index] = np.mean(data_m)\n",
    "    errors_E[index] = np.std(data_e)\n",
    "    errors_M[index] = np.std(data_m)\n"
   ]
  },
  {
   "cell_type": "code",
   "execution_count": 179,
   "metadata": {
    "collapsed": false
   },
   "outputs": [
    {
     "data": {
      "text/plain": [
       "<matplotlib.collections.PolyCollection at 0x11c2dffd0>"
      ]
     },
     "execution_count": 179,
     "metadata": {},
     "output_type": "execute_result"
    },
    {
     "data": {
      "image/png": "[encoded data removed]",
      "text/plain": [
       "<matplotlib.figure.Figure at 0x11b0041d0>"
      ]
     },
     "metadata": {},
     "output_type": "display_data"
    }
   ],
   "source": [
    "fig, ax = plt.subplots(2, sharex='row')\n",
    "ax[0].plot(temperatures, E, 'or')\n",
    "ax[1].plot(temperatures, M, 'or')\n",
    "ax[0].fill_between(temperatures, E - errors_E, E + errors_E,\n",
    "                 color='gray', alpha=0.2)\n",
    "ax[1].plot(temperatures, M, 'or')\n",
    "ax[1].fill_between(temperatures, M - errors_M, M + errors_M,\n",
    "                 color='gray', alpha=0.2)"
   ]
  },
  {
   "cell_type": "markdown",
   "metadata": {
    "collapsed": true
   },
   "source": [
    "\n",
    "# First look at the Ising model and statsitical inference\n",
    "Here we will go through some basic maths that covers our understanding of how Ising mdoel illustrates ideas of statsitical inference.\n",
    "\n",
    "Our model consists of $N_{spin}$ random variables, where $N_{spin}$ is the number of spins in our lattice. Let $X$ describe the current configuration of the lattice, where $X = \\left\\{X_0, X_1, \\cdots, X_{N_{spin}}\\right\\}$. Let's be clear that $X$ is just a set of random variables. A given realization of $X$ is denoted as $x = \\left\\{x_0, x_1, \\cdots, x_{N_{spin}}\\right\\}$, where $x_i \\in \\{+1, -1\\}$. \n",
    "\n",
    "The probability distribution "
   ]
  },
  {
   "cell_type": "code",
   "execution_count": null,
   "metadata": {
    "collapsed": true
   },
   "outputs": [],
   "source": []
  }
 ],
 "metadata": {
  "kernelspec": {
   "display_name": "Python 2",
   "language": "python",
   "name": "python2"
  },
  "language_info": {
   "codemirror_mode": {
    "name": "ipython",
    "version": 2
   },
   "file_extension": ".py",
   "mimetype": "text/x-python",
   "name": "python",
   "nbconvert_exporter": "python",
   "pygments_lexer": "ipython2",
   "version": "2.7.13"
  }
 },
 "nbformat": 4,
 "nbformat_minor": 2
}
