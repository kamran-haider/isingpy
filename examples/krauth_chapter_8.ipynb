{
 "cells": [
  {
   "cell_type": "code",
   "execution_count": 2,
   "metadata": {
    "collapsed": true
   },
   "outputs": [],
   "source": [
    "import numpy as np\n",
    "%matplotlib inline"
   ]
  },
  {
   "cell_type": "markdown",
   "metadata": {
    "collapsed": true
   },
   "source": [
    "# Notes from Chapter 8 of Werner Krauth Stat Mech book\n",
    "\n",
    "This is our second attempt at modeling Ising systems, except that we will now follow chapter 8 of Statistical Mechanics: Algorithms and Computations by Werner Krauth, which is a great source of learning about the basic statistical physics and simulations of Ising model.\n",
    "\n",
    "* An interesting equivalent of Ising model from chemistry is the colloidal particles. They tend to stick together to form clumps, which is equivalent to ferromagnets, where similar spins tend to align in the same direction.  "
   ]
  },
  {
   "cell_type": "markdown",
   "metadata": {},
   "source": [
    "## Intro to Ising models and some basic computations.\n",
    "\n",
    "In an Ising model, we have N spins on a lattice. We use $k$ to denote the index of a spin, hence $k = 1, \\cdots, N$. Each spin has direction, given by $\\sigma = \\pm 1$. Ferromagnet is a type of Ising model, where neighboring spins prefer to align. In other words, it is energetically more favorable for neighboring spins to be in parallel direction. The energy of a particular configuration is given by:\n",
    "\n",
    "$$\n",
    "E = -J\\displaystyle\\sum_{<k, l>}\\sigma_k \\sigma_l \\tag{5.1}\n",
    "$$\n",
    "_Note: Equation numbers follow the numbers from textbook._\n",
    "\n",
    "A very simple implementation of this energy calculation algorithm is provided in https://www.coursera.org/learn/statistical-mechanics/home/week/8 and shown below:"
   ]
  },
  {
   "cell_type": "code",
   "execution_count": 1,
   "metadata": {
    "collapsed": false
   },
   "outputs": [
    {
     "name": "stdout",
     "output_type": "stream",
     "text": [
      "[1, 1, -1, 1] 0.0\n"
     ]
    }
   ],
   "source": [
    "def energy(S, N, nbr):\n",
    "    E = 0.0\n",
    "    for k in range(N):\n",
    "        E -=  S[k] * sum(S[nn] for nn in nbr[k])\n",
    "    return 0.5 * E\n",
    "\n",
    "L = 2\n",
    "nbr = [[1, 2], [3, 0], [3, 0], [2, 1]]\n",
    "S = [1, 1, -1, 1]\n",
    "print S, energy(S, L * L, nbr)\n"
   ]
  },
  {
   "cell_type": "markdown",
   "metadata": {},
   "source": [
    "In the next step, we will learn how to enumerate configurations of a lattice of spins. For N spins, the total number of possible configurations are $2^N$. Each configuration $i$, where $i = 1, \\cdots, N$ is related to the binary representation of the number $i - 1$. We can imagine that in the binary representation $0's$ correspond to $-1$. For $N = 10$ and $i = 4$, the corresponding configuration of the system is: $0001$ or $\\{-1, -1, -1, 1\\}$.\n",
    "\n",
    "In short, the enumeration of configurations of an $N$ spin lattice is simply the process of counting number from $0$ to $2^N - 1$ and converting each number to its binary representation.  "
   ]
  },
  {
   "cell_type": "code",
   "execution_count": null,
   "metadata": {
    "collapsed": true
   },
   "outputs": [],
   "source": []
  }
 ],
 "metadata": {
  "kernelspec": {
   "display_name": "Python 2",
   "language": "python",
   "name": "python2"
  },
  "language_info": {
   "codemirror_mode": {
    "name": "ipython",
    "version": 2
   },
   "file_extension": ".py",
   "mimetype": "text/x-python",
   "name": "python",
   "nbconvert_exporter": "python",
   "pygments_lexer": "ipython2",
   "version": "2.7.13"
  }
 },
 "nbformat": 4,
 "nbformat_minor": 2
}
